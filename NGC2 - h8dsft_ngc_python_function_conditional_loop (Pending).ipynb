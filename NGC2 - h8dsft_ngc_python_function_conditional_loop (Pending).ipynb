{
 "cells": [
  {
   "cell_type": "markdown",
   "metadata": {},
   "source": [
    "# Task #1 - Number of Word\n",
    "\n",
    "Create a function that count the number of word in a sentence.Instruction:\n",
    "* Create function called `number_of_word`.\n",
    "* This function takes 1 input, `sentence`.\n",
    "* Inside this function, you can utilize `.split()` method to split the sentence into list of word(s).\n",
    "* Also, `len()` function to count the element inside a list.\n",
    "* Return the number of word from the sentence.\n",
    "\n",
    "Example:\n",
    "* Input: number_of_word(sentence = ’Hello World!’)\n",
    "* Output: 2\n",
    "* Input: number_of_word(sentence = ’Once Upon a Time in a faraway land’)\n",
    "* Output: 8\n"
   ]
  },
  {
   "cell_type": "code",
   "execution_count": 4,
   "metadata": {},
   "outputs": [],
   "source": [
    "def number_of_word(sentence):\n",
    "    word = sentence.split()\n",
    "    e_inside = len(word)\n",
    "    return e_inside"
   ]
  },
  {
   "cell_type": "code",
   "execution_count": 7,
   "metadata": {},
   "outputs": [
    {
     "name": "stdout",
     "output_type": "stream",
     "text": [
      "2\n",
      "8\n"
     ]
    }
   ],
   "source": [
    "print(number_of_word('Hello World'))\n",
    "print(number_of_word('Once Upon a Time in a faraway land'))"
   ]
  },
  {
   "cell_type": "markdown",
   "metadata": {},
   "source": [
    "# Task #2 - Find Multiple\n",
    "Create a function that will get list of number(s) from a certain range that multiples of given number.\n",
    "Instruction:\n",
    "* Create function called `find_multiples`.\n",
    "* This function takes 3 input: `start_range`, `end_range`, and `multiple`.\n",
    "* From every number within the given range, check if that number is the mutliples of `multiple`.\n",
    "* Return list of the possible multiple number(s).\n",
    "\n",
    "Example:\n",
    "* Input: find_multiple(start_range= 1, end_range= 20, multiple= 5)\n",
    "* Output: [5, 10, 15, 20]\n",
    "* Input: find_multiple(start_range= 1, end_range= 50, multiple= 10)\n",
    "* Output: [10, 20, 30, 40, 50]\n"
   ]
  },
  {
   "cell_type": "code",
   "execution_count": 35,
   "metadata": {},
   "outputs": [],
   "source": [
    "def find_multiples(start_range, end_range, multiple):\n",
    "    multiple_list = []\n",
    "    \n",
    "    for range_num in range(start_range, end_range + 1):\n",
    "        if range_num % multiple == 0:\n",
    "            multiple_list.append(range_num)\n",
    "\n",
    "    return multiple_list"
   ]
  },
  {
   "cell_type": "code",
   "execution_count": 36,
   "metadata": {},
   "outputs": [
    {
     "name": "stdout",
     "output_type": "stream",
     "text": [
      "[5, 10, 15, 20]\n",
      "[10, 20, 30, 40, 50]\n"
     ]
    }
   ],
   "source": [
    "print(find_multiples(start_range= 1, end_range= 20, multiple= 5))\n",
    "print(find_multiples(start_range= 1, end_range= 50, multiple= 10))"
   ]
  },
  {
   "cell_type": "markdown",
   "metadata": {},
   "source": [
    "# Task #3 - Grade Converter\n",
    "Create a function that will convert student’s grade to GPA.\n",
    "Instruction:\n",
    "* Create function called `Grade_Converter`.\n",
    "* This function takes input: `convert_to` and n-paired of student(s) name with its respective score.\n",
    "* Input argument for `convert_to` is either `letter_grade` or `gpa`.\n",
    "* You can utilize **kwargs input argument to generate n-length paired of student(s) name with its respective score (Dictionary).\n",
    "* This function will return dictionary of student’s name along with converted Letter Grade or GPA, depending on user input in `convert_to` parameter\n",
    "\n",
    "| Score | Letter Grade | GPA 4.0 Scale |\n",
    "| - | - | - |\n",
    "| 85 - 100 | A | 4 |\n",
    "| 70 - 84,99 | B | 3 | \n",
    "| 60 - 69,99 | C | 2.5 |\n",
    "| 50 - 59,99 | D | 2 |\n",
    "| 40 - 49,99 | E | 1.5 |\n",
    "| 0 - 39,99 | F | 1 |\n"
   ]
  },
  {
   "cell_type": "code",
   "execution_count": 23,
   "metadata": {},
   "outputs": [],
   "source": [
    "def Grade_Converter(convert_to, **kwargs):\n",
    "    result = {}\n",
    "    def get_gradeGPA(score):\n",
    "        if 85 <= score <= 100:\n",
    "            return 'A', 4\n",
    "        elif 70 <= score <= 84.99:\n",
    "            return 'B', 3\n",
    "        elif 60 <= score <= 69.99:\n",
    "            return 'C', 2.5\n",
    "        elif 50 <= score <= 59.99:\n",
    "            return 'D', 2\n",
    "        elif 40 <= score <= 49.99:\n",
    "            return 'E', 1.5\n",
    "        elif 0 <= score <= 39.99:\n",
    "            return 'F', 1\n",
    "\n",
    "    for name, score in kwargs.items():\n",
    "        letter_grade, gpa = get_gradeGPA(score)\n",
    "        if convert_to == 'letter_grade':\n",
    "            result[name] = letter_grade\n",
    "        elif convert_to == 'gpa':\n",
    "            result[name] = gpa\n",
    "\n",
    "    return result\n"
   ]
  },
  {
   "cell_type": "code",
   "execution_count": 25,
   "metadata": {},
   "outputs": [
    {
     "name": "stdout",
     "output_type": "stream",
     "text": [
      "{'Adam': 2.5, 'Faiz': 4}\n",
      "{'Albert': 'A', 'Dwi': 'B', 'Syahdan': 'D', 'Veronica': 'B'}\n"
     ]
    }
   ],
   "source": [
    "print(Grade_Converter(convert_to='gpa', Adam=62, Faiz=91))\n",
    "print(Grade_Converter(convert_to='letter_grade', Albert=90, Dwi=82, Syahdan=58, Veronica=84))"
   ]
  },
  {
   "cell_type": "markdown",
   "metadata": {},
   "source": [
    "# Task #4 - Fibonacci Sequence\n",
    "\n",
    "Fibonacci sequence is a sequence in which each number is the sum of the two preceding ones. Suppose we have fibonacci sequence started with:\n",
    "0, 1, 1, 2, 3, 5, ...\n",
    "\n",
    "The next number should be 8 or sum of the two precedings, 3 and 5:\n",
    "0, 1, 1, 2, 3, 5, 8, ...\n",
    "\n",
    "Then the next number should be 13 or sum of the two precedings, 5 and 8:\n",
    "0, 1, 1, 2, 3, 5, 8, 13,  ...\n",
    "\n",
    "And so on.\n"
   ]
  },
  {
   "cell_type": "code",
   "execution_count": null,
   "metadata": {},
   "outputs": [],
   "source": []
  }
 ],
 "metadata": {
  "kernelspec": {
   "display_name": "base",
   "language": "python",
   "name": "python3"
  },
  "language_info": {
   "codemirror_mode": {
    "name": "ipython",
    "version": 3
   },
   "file_extension": ".py",
   "mimetype": "text/x-python",
   "name": "python",
   "nbconvert_exporter": "python",
   "pygments_lexer": "ipython3",
   "version": "3.12.3"
  }
 },
 "nbformat": 4,
 "nbformat_minor": 2
}
