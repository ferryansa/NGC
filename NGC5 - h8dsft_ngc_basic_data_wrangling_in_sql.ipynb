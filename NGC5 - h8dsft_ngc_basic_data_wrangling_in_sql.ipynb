{
 "cells": [
  {
   "cell_type": "markdown",
   "metadata": {},
   "source": [
    "```sql\n",
    "-- create table customers\n",
    "CREATE TABLE Customers (\n",
    "\tcustomer_id SERIAL PRIMARY KEY,\n",
    "\tcustomer_name VARCHAR(100),\n",
    "\tcity VARCHAR(100)\n",
    ");\n",
    "\n",
    "--create table orders\n",
    "CREATE TABLE Orders (\n",
    "\torder_id SERIAL PRIMARY KEY,\n",
    "\tcustomer_id SERIAL REFERENCES Customers(customer_id),\n",
    "\torder_date DATE,\n",
    "\ttotal_amount DECIMAL\n",
    ");\n",
    "\n",
    "-- insert some data to table customers\n",
    "INSERT INTO Customers (customer_name, city)\n",
    "VALUES\n",
    "\t('John Doe', 'New York'),\n",
    "\t('Jane Smith', 'Los Angeles'),\n",
    "\t('David Johnson', 'Chicago');\n",
    "\n",
    "-- insert some data to table orders\n",
    "INSERT INTO Orders (customer_id, order_date, total_amount)\n",
    "VALUES\n",
    "\t(1, '2022-01-10', 100.00),\n",
    "\t(1, '2022-02-15', 150.00),\n",
    "\t(2, '2022-03-20', 200.00),\n",
    "\t(3, '2022-04-25', 50.00);\n",
    "\n",
    "-- check the table and the data has been create\n",
    "SELECT * FROM Customers;\n",
    "SELECT * FROM Orders;\n",
    "\n",
    "-- retrieve the total number of orders made by each customer\n",
    "SELECT customer_name, \n",
    "\tCOUNT(Orders.order_id)\n",
    "FROM Customers\n",
    "\tLEFT JOIN Orders ON Customers.customer_id = Orders.customer_id\n",
    "\tGROUP BY Customers.customer_name;\n",
    "'''"
   ]
  }
 ],
 "metadata": {
  "language_info": {
   "name": "python"
  }
 },
 "nbformat": 4,
 "nbformat_minor": 2
}
