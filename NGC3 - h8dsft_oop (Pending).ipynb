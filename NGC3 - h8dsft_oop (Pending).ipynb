{
 "cells": [
  {
   "cell_type": "code",
   "execution_count": 1,
   "metadata": {},
   "outputs": [
    {
     "name": "stdout",
     "output_type": "stream",
     "text": [
      "Buku dengan nomor barcode 123456789 \n",
      "Memiliki judul Marmut Merah Jambu \n",
      "Dibuat oleh Raditya Dika\n"
     ]
    }
   ],
   "source": [
    "class Books():\n",
    "    def __init__(self, title, author, uuid):\n",
    "        self.title = title\n",
    "        self.author = author\n",
    "        self.uuid = uuid\n",
    "\n",
    "    def __str__(self):\n",
    "        return f\"\"\"Buku dengan nomor barcode {self.uuid} \\nMemiliki judul {self.title} \\nDibuat oleh {self.author}\"\"\"\n",
    "    \n",
    "buku01 = Books('Marmut Merah Jambu', 'Raditya Dika', 123456789)\n",
    "print(buku01)\n"
   ]
  }
 ],
 "metadata": {
  "kernelspec": {
   "display_name": "base",
   "language": "python",
   "name": "python3"
  },
  "language_info": {
   "codemirror_mode": {
    "name": "ipython",
    "version": 3
   },
   "file_extension": ".py",
   "mimetype": "text/x-python",
   "name": "python",
   "nbconvert_exporter": "python",
   "pygments_lexer": "ipython3",
   "version": "3.12.3"
  }
 },
 "nbformat": 4,
 "nbformat_minor": 2
}
