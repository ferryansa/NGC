{
  "cells": [
    {
      "cell_type": "markdown",
      "metadata": {
        "id": "e0E_A5aDbO7r"
      },
      "source": [
        "Perusahaan peminjaman sepeda di San Fransisco memintamu untuk menganalisa durasi perjalanan customer mereka. Untuk memudahkan analisa, lakukan hal-hal berikut ini:\n",
        "\n",
        "> Add blockquote\n",
        "\n",
        "\n",
        "\n",
        "## **STATISTIK DESKRIPTIF**\n",
        "\n",
        "1. Lakukan perhitungan central tendency (mean, median, dan modus).\n",
        "2. Lakukan pengecekan dispersi (standar deviasi, variance, dan range).\n",
        "3. Lakukan pengecekan skewness dan kurtosis.\n",
        "3. Analisa apakah ada data outlier berdasarkan sebaran datanya.\n",
        "4. Cari tahu berapa persentase outlier terhadap data keseluruhan.\n",
        "5. Bagaimana perubahan pemusatan data sebelum dan sesudah penghapusan outlier?\n",
        "\n",
        "## **API**\n",
        "\n",
        "Buatlah API untuk:\n",
        "- `Menampilkan` seluruh entry data setelah dilakukan handling outlier.\n",
        "- `Menghapus` entry data, dari data yang telah dihandling outlier.\n",
        "\n",
        "clue:\n",
        "- Load data csv yang sudah diolah dengan pandas, kemudian konversi data ke dictionary `df.to_dict()` atau json `df.to_json()` untuk dapat diolah lebih lanjut dengan API menggunakan FastAPI.\n",
        "- Pembuatan API dilakukan pada script `.py`\n",
        "- Endpoint dan penamaan function pada API dibebaskan.\n",
        "\n",
        "\n",
        "---\n",
        "\n",
        "\n",
        "\n",
        "Data dapat diakses dari BigQuery dengan ketentuan:\n",
        "\n",
        "- Project_id: `bigquery-public-data`\n",
        "- Dataset: `san_francisco_bikeshare`\n",
        "- Table: `bikeshare_trips`\n",
        "- Ambil hanya kolom `duration_sec` saja\n",
        "- Berikan LIMIT pada data yang diambil sebesar 3000 entry data\n",
        "\n",
        "Koneksikan data di atas menggunakan `BigQuery` ke Google Colab dengan code berikut:\n",
        "```py\n",
        "from google.colab import auth\n",
        "from google.cloud import bigquery\n",
        "auth.authenticate_user()\n",
        "print('Authenticated')\n",
        "\n",
        "project_id = \"rock-wonder-317907\" #GUNAKAN GCP PROJECT-ID KALIAN MASING-MASING\n",
        "client = bigquery.Client(project=project_id)\n",
        "```\n",
        "\n",
        "Untuk melakukan Query menggunakan cara ini, kamu dapat menggunakan method `client.query('Masukkan Querynya').to_dataframe()`. Outputnya akan berupa Pandas dataframe, sehingga harus import Pandas.\n",
        "\n",
        "Contoh:\n",
        "\n",
        "```py\n",
        "df = client.query('''\n",
        "SELECT *\n",
        "FROM `bigquery-public-data.thelook_ecommerce.orders`\n",
        "WHERE created_at < \"2022-07-01\"\n",
        "ORDER BY year,month ASC\n",
        "''').to_dataframe()\n",
        "```\n",
        "\n"
      ]
    },
    {
      "cell_type": "markdown",
      "metadata": {
        "id": "53C50lrpW1kl"
      },
      "source": [
        "# ANSWER STATISTIK DESKRIPTIF"
      ]
    },
    {
      "cell_type": "markdown",
      "metadata": {
        "id": "5lI_eufJW3JE"
      },
      "source": [
        "## Preparation"
      ]
    },
    {
      "cell_type": "code",
      "execution_count": 42,
      "metadata": {
        "colab": {
          "base_uri": "https://localhost:8080/"
        },
        "id": "stLFk77dk8Ek",
        "outputId": "484fd94c-8beb-4156-f5a0-a986512f7a81"
      },
      "outputs": [
        {
          "name": "stdout",
          "output_type": "stream",
          "text": [
            "Authenticated\n"
          ]
        }
      ],
      "source": [
        "# Working area\n",
        "from google.colab import auth\n",
        "from google.cloud import bigquery\n",
        "auth.authenticate_user()\n",
        "print('Authenticated')\n",
        "\n",
        "project_id = \"hacktiv8-022\" #GUNAKAN GCP PROJECT-ID KALIAN MASING-MASING\n",
        "client = bigquery.Client(project=project_id)"
      ]
    },
    {
      "cell_type": "code",
      "execution_count": 43,
      "metadata": {
        "colab": {
          "base_uri": "https://localhost:8080/",
          "height": 0
        },
        "id": "eEQkXWUCQYfR",
        "outputId": "e89561e1-45ef-4087-bbf8-e987e88ec96d"
      },
      "outputs": [
        {
          "data": {
            "application/vnd.google.colaboratory.intrinsic+json": {
              "summary": "{\n  \"name\": \"df\",\n  \"rows\": 3000,\n  \"fields\": [\n    {\n      \"column\": \"duration_sec\",\n      \"properties\": {\n        \"dtype\": \"Int64\",\n        \"num_unique_values\": 1181,\n        \"samples\": [\n          1167,\n          790,\n          114\n        ],\n        \"semantic_type\": \"\",\n        \"description\": \"\"\n      }\n    }\n  ]\n}",
              "type": "dataframe",
              "variable_name": "df"
            },
            "text/html": [
              "\n",
              "  <div id=\"df-2a813983-c04a-439d-8735-54f64b26c728\" class=\"colab-df-container\">\n",
              "    <div>\n",
              "<style scoped>\n",
              "    .dataframe tbody tr th:only-of-type {\n",
              "        vertical-align: middle;\n",
              "    }\n",
              "\n",
              "    .dataframe tbody tr th {\n",
              "        vertical-align: top;\n",
              "    }\n",
              "\n",
              "    .dataframe thead th {\n",
              "        text-align: right;\n",
              "    }\n",
              "</style>\n",
              "<table border=\"1\" class=\"dataframe\">\n",
              "  <thead>\n",
              "    <tr style=\"text-align: right;\">\n",
              "      <th></th>\n",
              "      <th>duration_sec</th>\n",
              "    </tr>\n",
              "  </thead>\n",
              "  <tbody>\n",
              "    <tr>\n",
              "      <th>0</th>\n",
              "      <td>788</td>\n",
              "    </tr>\n",
              "    <tr>\n",
              "      <th>1</th>\n",
              "      <td>560</td>\n",
              "    </tr>\n",
              "    <tr>\n",
              "      <th>2</th>\n",
              "      <td>965</td>\n",
              "    </tr>\n",
              "    <tr>\n",
              "      <th>3</th>\n",
              "      <td>497</td>\n",
              "    </tr>\n",
              "    <tr>\n",
              "      <th>4</th>\n",
              "      <td>489</td>\n",
              "    </tr>\n",
              "    <tr>\n",
              "      <th>...</th>\n",
              "      <td>...</td>\n",
              "    </tr>\n",
              "    <tr>\n",
              "      <th>2995</th>\n",
              "      <td>148</td>\n",
              "    </tr>\n",
              "    <tr>\n",
              "      <th>2996</th>\n",
              "      <td>399</td>\n",
              "    </tr>\n",
              "    <tr>\n",
              "      <th>2997</th>\n",
              "      <td>280</td>\n",
              "    </tr>\n",
              "    <tr>\n",
              "      <th>2998</th>\n",
              "      <td>338</td>\n",
              "    </tr>\n",
              "    <tr>\n",
              "      <th>2999</th>\n",
              "      <td>188</td>\n",
              "    </tr>\n",
              "  </tbody>\n",
              "</table>\n",
              "<p>3000 rows × 1 columns</p>\n",
              "</div>\n",
              "    <div class=\"colab-df-buttons\">\n",
              "\n",
              "  <div class=\"colab-df-container\">\n",
              "    <button class=\"colab-df-convert\" onclick=\"convertToInteractive('df-2a813983-c04a-439d-8735-54f64b26c728')\"\n",
              "            title=\"Convert this dataframe to an interactive table.\"\n",
              "            style=\"display:none;\">\n",
              "\n",
              "  <svg xmlns=\"http://www.w3.org/2000/svg\" height=\"24px\" viewBox=\"0 -960 960 960\">\n",
              "    <path d=\"M120-120v-720h720v720H120Zm60-500h600v-160H180v160Zm220 220h160v-160H400v160Zm0 220h160v-160H400v160ZM180-400h160v-160H180v160Zm440 0h160v-160H620v160ZM180-180h160v-160H180v160Zm440 0h160v-160H620v160Z\"/>\n",
              "  </svg>\n",
              "    </button>\n",
              "\n",
              "  <style>\n",
              "    .colab-df-container {\n",
              "      display:flex;\n",
              "      gap: 12px;\n",
              "    }\n",
              "\n",
              "    .colab-df-convert {\n",
              "      background-color: #E8F0FE;\n",
              "      border: none;\n",
              "      border-radius: 50%;\n",
              "      cursor: pointer;\n",
              "      display: none;\n",
              "      fill: #1967D2;\n",
              "      height: 32px;\n",
              "      padding: 0 0 0 0;\n",
              "      width: 32px;\n",
              "    }\n",
              "\n",
              "    .colab-df-convert:hover {\n",
              "      background-color: #E2EBFA;\n",
              "      box-shadow: 0px 1px 2px rgba(60, 64, 67, 0.3), 0px 1px 3px 1px rgba(60, 64, 67, 0.15);\n",
              "      fill: #174EA6;\n",
              "    }\n",
              "\n",
              "    .colab-df-buttons div {\n",
              "      margin-bottom: 4px;\n",
              "    }\n",
              "\n",
              "    [theme=dark] .colab-df-convert {\n",
              "      background-color: #3B4455;\n",
              "      fill: #D2E3FC;\n",
              "    }\n",
              "\n",
              "    [theme=dark] .colab-df-convert:hover {\n",
              "      background-color: #434B5C;\n",
              "      box-shadow: 0px 1px 3px 1px rgba(0, 0, 0, 0.15);\n",
              "      filter: drop-shadow(0px 1px 2px rgba(0, 0, 0, 0.3));\n",
              "      fill: #FFFFFF;\n",
              "    }\n",
              "  </style>\n",
              "\n",
              "    <script>\n",
              "      const buttonEl =\n",
              "        document.querySelector('#df-2a813983-c04a-439d-8735-54f64b26c728 button.colab-df-convert');\n",
              "      buttonEl.style.display =\n",
              "        google.colab.kernel.accessAllowed ? 'block' : 'none';\n",
              "\n",
              "      async function convertToInteractive(key) {\n",
              "        const element = document.querySelector('#df-2a813983-c04a-439d-8735-54f64b26c728');\n",
              "        const dataTable =\n",
              "          await google.colab.kernel.invokeFunction('convertToInteractive',\n",
              "                                                    [key], {});\n",
              "        if (!dataTable) return;\n",
              "\n",
              "        const docLinkHtml = 'Like what you see? Visit the ' +\n",
              "          '<a target=\"_blank\" href=https://colab.research.google.com/notebooks/data_table.ipynb>data table notebook</a>'\n",
              "          + ' to learn more about interactive tables.';\n",
              "        element.innerHTML = '';\n",
              "        dataTable['output_type'] = 'display_data';\n",
              "        await google.colab.output.renderOutput(dataTable, element);\n",
              "        const docLink = document.createElement('div');\n",
              "        docLink.innerHTML = docLinkHtml;\n",
              "        element.appendChild(docLink);\n",
              "      }\n",
              "    </script>\n",
              "  </div>\n",
              "\n",
              "\n",
              "<div id=\"df-6d45841d-be64-42a5-962b-bbe75afee422\">\n",
              "  <button class=\"colab-df-quickchart\" onclick=\"quickchart('df-6d45841d-be64-42a5-962b-bbe75afee422')\"\n",
              "            title=\"Suggest charts\"\n",
              "            style=\"display:none;\">\n",
              "\n",
              "<svg xmlns=\"http://www.w3.org/2000/svg\" height=\"24px\"viewBox=\"0 0 24 24\"\n",
              "     width=\"24px\">\n",
              "    <g>\n",
              "        <path d=\"M19 3H5c-1.1 0-2 .9-2 2v14c0 1.1.9 2 2 2h14c1.1 0 2-.9 2-2V5c0-1.1-.9-2-2-2zM9 17H7v-7h2v7zm4 0h-2V7h2v10zm4 0h-2v-4h2v4z\"/>\n",
              "    </g>\n",
              "</svg>\n",
              "  </button>\n",
              "\n",
              "<style>\n",
              "  .colab-df-quickchart {\n",
              "      --bg-color: #E8F0FE;\n",
              "      --fill-color: #1967D2;\n",
              "      --hover-bg-color: #E2EBFA;\n",
              "      --hover-fill-color: #174EA6;\n",
              "      --disabled-fill-color: #AAA;\n",
              "      --disabled-bg-color: #DDD;\n",
              "  }\n",
              "\n",
              "  [theme=dark] .colab-df-quickchart {\n",
              "      --bg-color: #3B4455;\n",
              "      --fill-color: #D2E3FC;\n",
              "      --hover-bg-color: #434B5C;\n",
              "      --hover-fill-color: #FFFFFF;\n",
              "      --disabled-bg-color: #3B4455;\n",
              "      --disabled-fill-color: #666;\n",
              "  }\n",
              "\n",
              "  .colab-df-quickchart {\n",
              "    background-color: var(--bg-color);\n",
              "    border: none;\n",
              "    border-radius: 50%;\n",
              "    cursor: pointer;\n",
              "    display: none;\n",
              "    fill: var(--fill-color);\n",
              "    height: 32px;\n",
              "    padding: 0;\n",
              "    width: 32px;\n",
              "  }\n",
              "\n",
              "  .colab-df-quickchart:hover {\n",
              "    background-color: var(--hover-bg-color);\n",
              "    box-shadow: 0 1px 2px rgba(60, 64, 67, 0.3), 0 1px 3px 1px rgba(60, 64, 67, 0.15);\n",
              "    fill: var(--button-hover-fill-color);\n",
              "  }\n",
              "\n",
              "  .colab-df-quickchart-complete:disabled,\n",
              "  .colab-df-quickchart-complete:disabled:hover {\n",
              "    background-color: var(--disabled-bg-color);\n",
              "    fill: var(--disabled-fill-color);\n",
              "    box-shadow: none;\n",
              "  }\n",
              "\n",
              "  .colab-df-spinner {\n",
              "    border: 2px solid var(--fill-color);\n",
              "    border-color: transparent;\n",
              "    border-bottom-color: var(--fill-color);\n",
              "    animation:\n",
              "      spin 1s steps(1) infinite;\n",
              "  }\n",
              "\n",
              "  @keyframes spin {\n",
              "    0% {\n",
              "      border-color: transparent;\n",
              "      border-bottom-color: var(--fill-color);\n",
              "      border-left-color: var(--fill-color);\n",
              "    }\n",
              "    20% {\n",
              "      border-color: transparent;\n",
              "      border-left-color: var(--fill-color);\n",
              "      border-top-color: var(--fill-color);\n",
              "    }\n",
              "    30% {\n",
              "      border-color: transparent;\n",
              "      border-left-color: var(--fill-color);\n",
              "      border-top-color: var(--fill-color);\n",
              "      border-right-color: var(--fill-color);\n",
              "    }\n",
              "    40% {\n",
              "      border-color: transparent;\n",
              "      border-right-color: var(--fill-color);\n",
              "      border-top-color: var(--fill-color);\n",
              "    }\n",
              "    60% {\n",
              "      border-color: transparent;\n",
              "      border-right-color: var(--fill-color);\n",
              "    }\n",
              "    80% {\n",
              "      border-color: transparent;\n",
              "      border-right-color: var(--fill-color);\n",
              "      border-bottom-color: var(--fill-color);\n",
              "    }\n",
              "    90% {\n",
              "      border-color: transparent;\n",
              "      border-bottom-color: var(--fill-color);\n",
              "    }\n",
              "  }\n",
              "</style>\n",
              "\n",
              "  <script>\n",
              "    async function quickchart(key) {\n",
              "      const quickchartButtonEl =\n",
              "        document.querySelector('#' + key + ' button');\n",
              "      quickchartButtonEl.disabled = true;  // To prevent multiple clicks.\n",
              "      quickchartButtonEl.classList.add('colab-df-spinner');\n",
              "      try {\n",
              "        const charts = await google.colab.kernel.invokeFunction(\n",
              "            'suggestCharts', [key], {});\n",
              "      } catch (error) {\n",
              "        console.error('Error during call to suggestCharts:', error);\n",
              "      }\n",
              "      quickchartButtonEl.classList.remove('colab-df-spinner');\n",
              "      quickchartButtonEl.classList.add('colab-df-quickchart-complete');\n",
              "    }\n",
              "    (() => {\n",
              "      let quickchartButtonEl =\n",
              "        document.querySelector('#df-6d45841d-be64-42a5-962b-bbe75afee422 button');\n",
              "      quickchartButtonEl.style.display =\n",
              "        google.colab.kernel.accessAllowed ? 'block' : 'none';\n",
              "    })();\n",
              "  </script>\n",
              "</div>\n",
              "\n",
              "  <div id=\"id_99cb0516-0d37-4d02-8810-c1337a78b51f\">\n",
              "    <style>\n",
              "      .colab-df-generate {\n",
              "        background-color: #E8F0FE;\n",
              "        border: none;\n",
              "        border-radius: 50%;\n",
              "        cursor: pointer;\n",
              "        display: none;\n",
              "        fill: #1967D2;\n",
              "        height: 32px;\n",
              "        padding: 0 0 0 0;\n",
              "        width: 32px;\n",
              "      }\n",
              "\n",
              "      .colab-df-generate:hover {\n",
              "        background-color: #E2EBFA;\n",
              "        box-shadow: 0px 1px 2px rgba(60, 64, 67, 0.3), 0px 1px 3px 1px rgba(60, 64, 67, 0.15);\n",
              "        fill: #174EA6;\n",
              "      }\n",
              "\n",
              "      [theme=dark] .colab-df-generate {\n",
              "        background-color: #3B4455;\n",
              "        fill: #D2E3FC;\n",
              "      }\n",
              "\n",
              "      [theme=dark] .colab-df-generate:hover {\n",
              "        background-color: #434B5C;\n",
              "        box-shadow: 0px 1px 3px 1px rgba(0, 0, 0, 0.15);\n",
              "        filter: drop-shadow(0px 1px 2px rgba(0, 0, 0, 0.3));\n",
              "        fill: #FFFFFF;\n",
              "      }\n",
              "    </style>\n",
              "    <button class=\"colab-df-generate\" onclick=\"generateWithVariable('df')\"\n",
              "            title=\"Generate code using this dataframe.\"\n",
              "            style=\"display:none;\">\n",
              "\n",
              "  <svg xmlns=\"http://www.w3.org/2000/svg\" height=\"24px\"viewBox=\"0 0 24 24\"\n",
              "       width=\"24px\">\n",
              "    <path d=\"M7,19H8.4L18.45,9,17,7.55,7,17.6ZM5,21V16.75L18.45,3.32a2,2,0,0,1,2.83,0l1.4,1.43a1.91,1.91,0,0,1,.58,1.4,1.91,1.91,0,0,1-.58,1.4L9.25,21ZM18.45,9,17,7.55Zm-12,3A5.31,5.31,0,0,0,4.9,8.1,5.31,5.31,0,0,0,1,6.5,5.31,5.31,0,0,0,4.9,4.9,5.31,5.31,0,0,0,6.5,1,5.31,5.31,0,0,0,8.1,4.9,5.31,5.31,0,0,0,12,6.5,5.46,5.46,0,0,0,6.5,12Z\"/>\n",
              "  </svg>\n",
              "    </button>\n",
              "    <script>\n",
              "      (() => {\n",
              "      const buttonEl =\n",
              "        document.querySelector('#id_99cb0516-0d37-4d02-8810-c1337a78b51f button.colab-df-generate');\n",
              "      buttonEl.style.display =\n",
              "        google.colab.kernel.accessAllowed ? 'block' : 'none';\n",
              "\n",
              "      buttonEl.onclick = () => {\n",
              "        google.colab.notebook.generateWithVariable('df');\n",
              "      }\n",
              "      })();\n",
              "    </script>\n",
              "  </div>\n",
              "\n",
              "    </div>\n",
              "  </div>\n"
            ],
            "text/plain": [
              "      duration_sec\n",
              "0              788\n",
              "1              560\n",
              "2              965\n",
              "3              497\n",
              "4              489\n",
              "...            ...\n",
              "2995           148\n",
              "2996           399\n",
              "2997           280\n",
              "2998           338\n",
              "2999           188\n",
              "\n",
              "[3000 rows x 1 columns]"
            ]
          },
          "execution_count": 43,
          "metadata": {},
          "output_type": "execute_result"
        }
      ],
      "source": [
        "df = client.query('''\n",
        "SELECT duration_sec\n",
        "FROM `bigquery-public-data.san_francisco_bikeshare.bikeshare_trips`\n",
        "LIMIT 3000;\n",
        "''').to_dataframe()\n",
        "\n",
        "df"
      ]
    },
    {
      "cell_type": "code",
      "execution_count": 44,
      "metadata": {
        "id": "kTPuV0D3RW9r"
      },
      "outputs": [],
      "source": [
        "import pandas as pd\n",
        "from scipy import stats\n",
        "from scipy.stats import skew, kurtosis\n"
      ]
    },
    {
      "cell_type": "code",
      "execution_count": 45,
      "metadata": {
        "id": "bEAvMfPdReqQ"
      },
      "outputs": [],
      "source": [
        "df = pd.DataFrame(df)"
      ]
    },
    {
      "cell_type": "markdown",
      "metadata": {
        "id": "oKc_Zl9nW_ED"
      },
      "source": [
        "## 1. Lakukan perhitungan central tendency (mean, median, dan modus)."
      ]
    },
    {
      "cell_type": "code",
      "execution_count": 46,
      "metadata": {
        "id": "anHo4nD9RyaF"
      },
      "outputs": [],
      "source": [
        "# Menghitung mean\n",
        "mean_value = df['duration_sec'].mean()\n",
        "\n",
        "# Menghitung median\n",
        "median_value = df['duration_sec'].median()\n",
        "\n",
        "# Menghitung modus\n",
        "mode_value = stats.mode(df['duration_sec'])[0]"
      ]
    },
    {
      "cell_type": "code",
      "execution_count": 47,
      "metadata": {
        "colab": {
          "base_uri": "https://localhost:8080/"
        },
        "id": "XqsPk705SM2o",
        "outputId": "3a8b19d2-8656-4293-bc02-6a23c61376ae"
      },
      "outputs": [
        {
          "name": "stdout",
          "output_type": "stream",
          "text": [
            "Mean: 816.415\n",
            "Median: 501.0\n",
            "Modus: 325\n"
          ]
        }
      ],
      "source": [
        "print(f\"Mean: {mean_value}\")\n",
        "print(f\"Median: {median_value}\")\n",
        "print(f\"Modus: {mode_value}\")"
      ]
    },
    {
      "cell_type": "markdown",
      "metadata": {
        "id": "7h-qpNmoXHGZ"
      },
      "source": [
        "## 2. Lakukan pengecekan dispersi (standar deviasi, variance, dan range)."
      ]
    },
    {
      "cell_type": "code",
      "execution_count": 48,
      "metadata": {
        "id": "ruEBI9p4SeaM"
      },
      "outputs": [],
      "source": [
        "# Menghitung standar deviasi\n",
        "std_dev = df['duration_sec'].std()\n",
        "\n",
        "# Menghitung variance\n",
        "variance = df['duration_sec'].var()\n",
        "\n",
        "# Menghitung range\n",
        "range_value = df['duration_sec'].max() - df['duration_sec'].min()"
      ]
    },
    {
      "cell_type": "code",
      "execution_count": 49,
      "metadata": {
        "colab": {
          "base_uri": "https://localhost:8080/"
        },
        "id": "byPC8yV8Sq5O",
        "outputId": "3059ed6b-7131-40ea-8f67-07aadc5ab3b5"
      },
      "outputs": [
        {
          "name": "stdout",
          "output_type": "stream",
          "text": [
            "Standard Deviation: 2873.99854940737\n",
            "Variance: 8259867.661995665\n",
            "Range: 67486\n"
          ]
        }
      ],
      "source": [
        "print(f\"Standard Deviation: {std_dev}\")\n",
        "print(f\"Variance: {variance}\")\n",
        "print(f\"Range: {range_value}\")"
      ]
    },
    {
      "cell_type": "markdown",
      "metadata": {
        "id": "IChEAV-dXLEA"
      },
      "source": [
        "## 3. Lakukan pengecekan skewness dan kurtosis."
      ]
    },
    {
      "cell_type": "code",
      "execution_count": 50,
      "metadata": {
        "id": "wRbiNOeES2ma"
      },
      "outputs": [],
      "source": [
        "# Menghitung skewness\n",
        "skewness_value = skew(df['duration_sec'])\n",
        "\n",
        "# Menghitung kurtosis\n",
        "kurtosis_value = kurtosis(df['duration_sec'])"
      ]
    },
    {
      "cell_type": "code",
      "execution_count": 51,
      "metadata": {
        "colab": {
          "base_uri": "https://localhost:8080/"
        },
        "id": "0aZ8fKP7TN_9",
        "outputId": "ba256846-082f-4706-9d80-1042a60a7cbf"
      },
      "outputs": [
        {
          "name": "stdout",
          "output_type": "stream",
          "text": [
            "Skewness: 18.81860329770836\n",
            "Kurtosis: 389.51479869298896\n"
          ]
        }
      ],
      "source": [
        "print(f\"Skewness: {skewness_value}\")\n",
        "print(f\"Kurtosis: {kurtosis_value}\")"
      ]
    },
    {
      "cell_type": "markdown",
      "metadata": {
        "id": "_gWljCi3XOPB"
      },
      "source": [
        "## 4. Analisa apakah ada data outlier berdasarkan sebaran datanya."
      ]
    },
    {
      "cell_type": "markdown",
      "metadata": {
        "id": "-XpP6bGpTluR"
      },
      "source": [
        "- Berdasarkan perhitungan central tendency, bisa dilihat value `mean` lebih besar dari pada `median` dan `modus`, yang indikasinya ke `skewness positif` karena beberapa value yang sangat tinggi (outlier) menarik rata-rata ke arah kanan.\n",
        "- Berdasarkan pengecekan dispresi, `range` yang besar menunjukan ada rentang value yang luas pada dataset. Dan standar deviasi yang didapatkan jauh tinggi dibanding rata-rata, yang menandakan data sangat besar dan beberapa value sangat jauh dari pusat distribusi.\n",
        "- Berdasarkan value kurtosis yang tinggi, tandanya distribusinya `leptokurtik`, yang artinya ada outlier extrim di kedua ekor distribusi, khususnya di sisi atas karena nilai durasi yang jauh lebih besar."
      ]
    },
    {
      "cell_type": "markdown",
      "metadata": {
        "id": "ubUae2oFXU9n"
      },
      "source": [
        "## 5. Cari tahu berapa persentase outlier terhadap data keseluruhan."
      ]
    },
    {
      "cell_type": "code",
      "execution_count": 52,
      "metadata": {
        "colab": {
          "base_uri": "https://localhost:8080/"
        },
        "id": "Rpttbp9iTQ35",
        "outputId": "94c22522-abdb-4734-9d1e-38a7fcbdaf7a"
      },
      "outputs": [
        {
          "name": "stdout",
          "output_type": "stream",
          "text": [
            "Persentase outliers (Z-score): 0.5%\n"
          ]
        }
      ],
      "source": [
        "# Menggunakan metode Z-score (berdasarkan standar deviasi)\n",
        "upper_bound = mean_value + 3 * std_dev\n",
        "lower_bound = 0  # Karena durasi tidak bisa negatif\n",
        "\n",
        "# Menghitung jumlah outliers berdasarkan Z-score\n",
        "outliers_z = df[(df['duration_sec'] > upper_bound)]\n",
        "percent_outliers_z = (len(outliers_z) / len(df)) * 100\n",
        "\n",
        "print(f\"Persentase outliers (Z-score): {percent_outliers_z}%\")"
      ]
    },
    {
      "cell_type": "markdown",
      "metadata": {
        "id": "mUATYcJxY6u1"
      },
      "source": [
        "Hanya sekitar 0.5% dari data yang dianggap sebagai outliers, yang menunjukkan kalau mayoritas data berada dalam 3 standar deviasi dari mean, tetapi ada beberapa value yang jauh dari mean."
      ]
    },
    {
      "cell_type": "code",
      "execution_count": 53,
      "metadata": {
        "colab": {
          "base_uri": "https://localhost:8080/"
        },
        "id": "P_2KeiM4YVp1",
        "outputId": "289fe903-ad99-41df-e3b3-77333a9c2db5"
      },
      "outputs": [
        {
          "name": "stdout",
          "output_type": "stream",
          "text": [
            "Persentase outliers (IQR): 5.566666666666667%\n"
          ]
        }
      ],
      "source": [
        "# Menggunakan metode IQR\n",
        "Q1 = df['duration_sec'].quantile(0.25)\n",
        "Q3 = df['duration_sec'].quantile(0.75)\n",
        "IQR = Q3 - Q1\n",
        "lower_bound_iqr = Q1 - 1.5 * IQR\n",
        "upper_bound_iqr = Q3 + 1.5 * IQR\n",
        "\n",
        "# Menghitung jumlah outliers berdasarkan IQR\n",
        "outliers_iqr = df[(df['duration_sec'] < lower_bound_iqr) | (df['duration_sec'] > upper_bound_iqr)]\n",
        "percent_outliers_iqr = (len(outliers_iqr) / len(df)) * 100\n",
        "\n",
        "print(f\"Persentase outliers (IQR): {percent_outliers_iqr}%\")"
      ]
    },
    {
      "cell_type": "markdown",
      "metadata": {
        "id": "fistsgp7ZVGF"
      },
      "source": [
        "Sekitar 5.57% data yang dianggap outliers, persentase outliers yang lebih tinggi dibandingkan dengan Z-score menunjukkan bahwa metode ini mengambil sample lebih banyak data yang jauh dari rentang normal."
      ]
    },
    {
      "cell_type": "markdown",
      "metadata": {
        "id": "HyL5CrCJYxFt"
      },
      "source": [
        "## 6. Bagaimana perubahan pemusatan data sebelum dan sesudah penghapusan outlier?"
      ]
    },
    {
      "cell_type": "code",
      "execution_count": 54,
      "metadata": {
        "colab": {
          "base_uri": "https://localhost:8080/"
        },
        "id": "xGs4IJi3Y1Tg",
        "outputId": "29af3d32-73b9-4f9a-f301-4c9a3c00ab56"
      },
      "outputs": [
        {
          "name": "stdout",
          "output_type": "stream",
          "text": [
            "Perubahan Mean: 816.415 -> 549.3353335686552\n",
            "Perubahan Median: 501.0 -> 481.0\n",
            "Perubahan Modus: 325 -> 325\n"
          ]
        }
      ],
      "source": [
        "# Menghapus data outliers\n",
        "df_no_outliers = df[(df['duration_sec'] >= lower_bound_iqr) & (df['duration_sec'] <= upper_bound_iqr)]\n",
        "\n",
        "# Statistik pemusatan setelah penghapusan outlier\n",
        "mean_after = df_no_outliers['duration_sec'].mean()\n",
        "median_after = df_no_outliers['duration_sec'].median()\n",
        "mode_after = stats.mode(df_no_outliers['duration_sec'])[0]\n",
        "\n",
        "# 4. Perbandingan sebelum dan sesudah\n",
        "print(f\"Perubahan Mean: {mean_value} -> {mean_after}\")\n",
        "print(f\"Perubahan Median: {median_value} -> {median_after}\")\n",
        "print(f\"Perubahan Modus: {mode_value} -> {mode_after}\")"
      ]
    },
    {
      "cell_type": "markdown",
      "metadata": {
        "id": "qSbHRlTMa79W"
      },
      "source": [
        "Perbedaan antara `mean` dan `median` mengecil setelah penghapusan outlier, yang menunjukkan sekarang distribusinya lebih seimbang.\n"
      ]
    },
    {
      "cell_type": "markdown",
      "metadata": {
        "id": "86RfEIS_cdnR"
      },
      "source": [
        "# ANSWER API"
      ]
    },
    {
      "cell_type": "code",
      "execution_count": 55,
      "metadata": {
        "id": "Z6rJOSe5c5Al"
      },
      "outputs": [],
      "source": [
        "df_no_outliers.to_csv('P0_Kisi2_LC3_data_after_outlier_handling.csv', index=False)"
      ]
    }
  ],
  "metadata": {
    "colab": {
      "collapsed_sections": [
        "5lI_eufJW3JE",
        "IChEAV-dXLEA"
      ],
      "provenance": []
    },
    "kernelspec": {
      "display_name": "Python 3",
      "name": "python3"
    },
    "language_info": {
      "name": "python"
    }
  },
  "nbformat": 4,
  "nbformat_minor": 0
}
