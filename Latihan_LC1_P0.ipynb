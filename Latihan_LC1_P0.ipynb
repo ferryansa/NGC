{
  "cells": [
    {
      "cell_type": "markdown",
      "metadata": {
        "id": "lCHIkZZHY7w9"
      },
      "source": [
        "#### 1. Buatlah fungsi untuk menghitung `jumlah kalori terbakar` berdasarkan `jenis kegiatan` dan `durasi dalam menit`, dengan ketentuan di bawah:\n",
        "\n",
        "<div align=\"center\">\n",
        "\n",
        "|Kegiatan|Kalori Terbakar per Menit|\n",
        "|--|--|\n",
        "|Berlari|10|\n",
        "|Bersepeda|8|\n",
        "|Berenang|12|\n",
        "\n",
        "\n",
        "</div>\n",
        "\n",
        "contoh:\n",
        "```\n",
        ">>> input: calories_burned(duration=60, exercise='berenang')\n",
        ">>> output: 720\n",
        "\n",
        ">>> input: calories_burned(duration=15, exercise='berlari')\n",
        ">>> output: 150\n",
        "\n",
        ">>> input:calories_burned(duration=20, exercise='bersepeda')\n",
        ">>> output: 160\n",
        "```"
      ]
    },
    {
      "cell_type": "code",
      "execution_count": 2,
      "metadata": {
        "id": "ExBJkWTq3yE3"
      },
      "outputs": [
        {
          "name": "stdout",
          "output_type": "stream",
          "text": [
            "720\n",
            "150\n",
            "160\n"
          ]
        }
      ],
      "source": [
        "# code here\n",
        "def calories_burned(duration, exercise):\n",
        "    calories_per_minutes = {'berlari':10, 'bersepeda':8, 'berenang':12}\n",
        "\n",
        "    exercise = exercise.lower()\n",
        "    if exercise in calories_per_minutes:\n",
        "        total_calories = calories_per_minutes[exercise] * duration\n",
        "        return total_calories\n",
        "    else:\n",
        "        return \"Kegiatan tidak dikenali. Pilih antara 'berlari', 'bersepeda', atau 'berenang'.\"\n",
        "\n",
        "\n",
        "print(calories_burned(duration=60, exercise='berenang'))\n",
        "print(calories_burned(duration=15, exercise='berlari'))\n",
        "print(calories_burned(duration=20, exercise='bersepeda'))\n"
      ]
    },
    {
      "cell_type": "markdown",
      "metadata": {
        "id": "uVYOZdpMaRC6"
      },
      "source": [
        "#### 2. Buat function untuk menghitung `total kalori terbakar` dari `beberapa sesi latihan`, manfaatkan fungsi yang telah dibuat sebelumnya di dalam function ini.\n",
        "\n",
        "Notes:\n",
        "- Dalam kasus ini diasumsikan setiap sesi latihan memiliki durasi yang sama (`each_session_duration`).\n",
        "- Function yang dibuat memiliki input argumen berupa: `n-length jenis latihan yang dilakukan di setiap sesinya` dan `each_session_duration`\n",
        "- Manfaatkan `*args` variable-length input untuk memasukkan jenis latihan.\n",
        "- Manfaatkan function yang telah dibuat sebelumnya untuk mengitung kalori terbakar di setiap sesi\n",
        "\n",
        "Contoh:\n",
        "```\n",
        ">>> input: total_session_burned_cal('berenang', 'bersepeda', each_session_duration=10)\n",
        ">>> output: 200\n",
        "\n",
        "penjelasan:\n",
        "kegiatan berenang dilakukan 10 menit dan kegiatan bersepeda dilakukan 10 menit dapat membakar total 200 kalori\n",
        "\n",
        ">>> input: total_session_burned_cal('berenang', 'berlari', 'bersepeda', each_session_duration=5)\n",
        ">>> output: 150\n",
        "\n",
        "penjelasan:\n",
        "kegiatan berenang, berlari dan bersepeda yang masing-masing dilakukan 5 menit dapat membakar 150 kalori.\n",
        "```"
      ]
    },
    {
      "cell_type": "code",
      "execution_count": 3,
      "metadata": {
        "id": "OHs41ThP3ze-"
      },
      "outputs": [
        {
          "name": "stdout",
          "output_type": "stream",
          "text": [
            "200\n",
            "150\n"
          ]
        }
      ],
      "source": [
        "# code here\n",
        "def total_session_burned_cal(*args, each_session_duration):\n",
        "    total_calories = 0\n",
        "\n",
        "    for exercise in args:\n",
        "        total_calories += calories_burned(each_session_duration, exercise)\n",
        "    \n",
        "    return total_calories\n",
        "\n",
        "print(total_session_burned_cal('berenang', 'bersepeda', each_session_duration=10)) \n",
        "print(total_session_burned_cal('berenang', 'berlari', 'bersepeda', each_session_duration=5))\n",
        "        "
      ]
    },
    {
      "cell_type": "markdown",
      "metadata": {
        "id": "rvST1Pn9h6QX"
      },
      "source": [
        "#### 3. Lakukan Unit Testing pada kedua function yang telah dibuat.\n",
        "\n",
        "  ***Notes:***\n",
        "  \n",
        "  Pengujian Unit testing dapat dilakukan pada cell .ipynb dengan cara:\n",
        "- Cukup buat cell baru dan tulis code kerangka unit test di cell tersebut dan jalankan langsung di cell tanpa menggunakan if __name__()=='__main__'.\n",
        "\n",
        "- Sebagai pengganti idiom ini:\n",
        "```\n",
        "`if __name__=='__main__'`:\n",
        "   unittest.main()\n",
        "```\n",
        "dapat menggunakan:\n",
        "```\n",
        "unittest.main(argv=[''], exit=False)\n",
        "```"
      ]
    },
    {
      "cell_type": "code",
      "execution_count": 4,
      "metadata": {
        "id": "-uZD75JH31-Y"
      },
      "outputs": [
        {
          "name": "stderr",
          "output_type": "stream",
          "text": [
            "..\n",
            "----------------------------------------------------------------------\n",
            "Ran 2 tests in 0.002s\n",
            "\n",
            "OK\n"
          ]
        },
        {
          "data": {
            "text/plain": [
              "<unittest.main.TestProgram at 0x24167433440>"
            ]
          },
          "execution_count": 4,
          "metadata": {},
          "output_type": "execute_result"
        }
      ],
      "source": [
        "# code here\n",
        "\n",
        "import unittest\n",
        "\n",
        "class TestCaloriesBurned(unittest.TestCase):\n",
        "    def test_calories_burned(self):\n",
        "        self.assertEqual(calories_burned(60, 'berenang'), 720)\n",
        "        self.assertEqual(calories_burned(20, 'bersepeda'), 160)\n",
        "        self.assertEqual(calories_burned(30, 'berlari'), 300)\n",
        "        # self.assertEqual(calories_burned(30, 'yoga'), \"Kegiatan tidak valid\")\n",
        "\n",
        "    def test_total_session_burned_cal(self):\n",
        "        self.assertEqual(total_session_burned_cal('berenang', 'berlari', 'bersepeda', each_session_duration=5), 150)\n",
        "        self.assertEqual(total_session_burned_cal('berlari', 'berlari', each_session_duration=30), 600)\n",
        "        # self.assertEqual(total_session_burned_cal('berenang', 'yoga', each_session_duration=10), 120)\n",
        "\n",
        "unittest.main(argv=[''], exit=False)\n"
      ]
    }
  ],
  "metadata": {
    "colab": {
      "provenance": []
    },
    "kernelspec": {
      "display_name": "base",
      "language": "python",
      "name": "python3"
    },
    "language_info": {
      "codemirror_mode": {
        "name": "ipython",
        "version": 3
      },
      "file_extension": ".py",
      "mimetype": "text/x-python",
      "name": "python",
      "nbconvert_exporter": "python",
      "pygments_lexer": "ipython3",
      "version": "3.12.3"
    }
  },
  "nbformat": 4,
  "nbformat_minor": 0
}
